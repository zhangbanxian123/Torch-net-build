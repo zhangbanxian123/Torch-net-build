# 预备知识
import torch
import torchvision